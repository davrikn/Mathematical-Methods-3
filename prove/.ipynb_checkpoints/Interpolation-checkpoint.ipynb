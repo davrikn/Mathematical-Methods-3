{
 "cells": [
  {
   "cell_type": "code",
   "execution_count": 2,
   "metadata": {},
   "outputs": [],
   "source": [
    "import numpy as np\n",
    "def cubic_spline(x_i, y_i, end=\"Natural\", v=(0, 0)):\n",
    "    x_i = np.array(x_i)\n",
    "    y_i = np.array(y_i)\n",
    "\n",
    "    dx = x_i[1:] - x_i[:-1]\n",
    "    dy = y_i[1:] - y_i[:-1]\n",
    "    n = len(x_i)\n",
    "\n",
    "    M = np.zeros((n, n))\n",
    "    N = np.zeros(n)\n",
    "\n",
    "    for i in range(1, n-1):\n",
    "        M[i, i-1] = dx[i-1]\n",
    "        M[i, i] = 2*(dx[i-1] + dx[i])\n",
    "        M[i, i+1] = dx[i]\n",
    "\n",
    "        N[i] = 3*(dy[i]/dx[i] - dy[i-1]/dx[i-1])\n",
    "    \n",
    "    if end == \"Natural\":\n",
    "        M[0, 0] = 1\n",
    "        M[-1, -1] = 1\n",
    "\n",
    "    elif end == \"Curvature\":\n",
    "        M[0, 0] = 2\n",
    "        M[-1, -1] = 2\n",
    "        N[0] = v[0]\n",
    "        N[-1] = v[-1]        \n",
    "        \n",
    "    elif end == \"Clamped\":\n",
    "        M[0, :2] = [2*dx[0], dx[0]]\n",
    "        M[-1, -2:] = [dx[-1], 2*dx[-1]]\n",
    "        N[0] = 3*(dy[0]/dx[0] - v[0])\n",
    "        N[-1] = 3*(v[-1] - dy[-1]/dx[-1])\n",
    "        \n",
    "    elif end == \"Parabolic\":\n",
    "        M[0, :2] = [1, -1]\n",
    "        M[-1, -2:] = [1, -1]\n",
    "        \n",
    "    elif end == \"Not_a_knot\":\n",
    "        M[0, :3] = [dx[1], -(dx[0] + dx[1]), dx[0]]\n",
    "        M[-1, -3:] = [dx[-1], -(dx[-2] + dx[-1]), dx[-1]]\n",
    "        \n",
    "    # else:\n",
    "    #     M[0] = end_condition[0][:-1]\n",
    "    #     M[-1] = end_condition[-1][:-1]\n",
    "    #     N[0] = end_condition[0, -1]\n",
    "    #     N[-1] = end_condition[-1, -1]\n",
    "    \n",
    "    N = N.reshape(-1, 1)\n",
    "    c = np.linalg.inv(M).dot(N).reshape(-1)\n",
    "\n",
    "    a = y_i[:-1]\n",
    "    b = dy/dx - dx*(2*c[:-1] + c[1:])/3\n",
    "    d = (c[1:] - c[:-1])/(3 * dx)\n",
    "    c = c[:-1]\n",
    "\n",
    "    print(\"A: \", a)\n",
    "    print(\"B: \", b)\n",
    "    print(\"C: \", c)\n",
    "    print(\"D: \", d)"
   ]
  },
  {
   "cell_type": "code",
   "execution_count": 2,
   "metadata": {},
   "outputs": [
    {
     "name": "stdout",
     "output_type": "stream",
     "text": [
      "A:  [ 4 -1 -2]\n",
      "B:  [-5.8 -3.4  1.4]\n",
      "C:  [0.  2.4 2.4]\n",
      "D:  [ 0.8  0.  -0.8]\n"
     ]
    }
   ],
   "source": [
    "# (a)\n",
    "import matplotlib.pyplot as plt\n",
    "x_i = [-1, 0, 1, 2]\n",
    "y_i = [4, -1, -2, 1]\n",
    "\n",
    "cubic_spline(x_i, y_i)\n",
    "    "
   ]
  }
 ],
 "metadata": {
  "kernelspec": {
   "display_name": "Python 3 (ipykernel)",
   "language": "python",
   "name": "python3"
  },
  "language_info": {
   "codemirror_mode": {
    "name": "ipython",
    "version": 3
   },
   "file_extension": ".py",
   "mimetype": "text/x-python",
   "name": "python",
   "nbconvert_exporter": "python",
   "pygments_lexer": "ipython3",
   "version": "3.9.5"
  }
 },
 "nbformat": 4,
 "nbformat_minor": 1
}
